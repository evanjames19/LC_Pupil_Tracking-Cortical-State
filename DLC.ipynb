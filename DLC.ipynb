{
 "cells": [
  {
   "cell_type": "code",
   "execution_count": 1,
   "id": "7f3c41ef-98bc-4950-97c3-721434aadd51",
   "metadata": {},
   "outputs": [
    {
     "name": "stderr",
     "output_type": "stream",
     "text": [
      "c:\\users\\nec_gpu\\appdata\\local\\programs\\python\\python36\\lib\\site-packages\\tensorflow\\python\\framework\\dtypes.py:523: FutureWarning: Passing (type, 1) or '1type' as a synonym of type is deprecated; in a future version of numpy, it will be understood as (type, (1,)) / '(1,)type'.\n",
      "  _np_qint8 = np.dtype([(\"qint8\", np.int8, 1)])\n",
      "c:\\users\\nec_gpu\\appdata\\local\\programs\\python\\python36\\lib\\site-packages\\tensorflow\\python\\framework\\dtypes.py:524: FutureWarning: Passing (type, 1) or '1type' as a synonym of type is deprecated; in a future version of numpy, it will be understood as (type, (1,)) / '(1,)type'.\n",
      "  _np_quint8 = np.dtype([(\"quint8\", np.uint8, 1)])\n",
      "c:\\users\\nec_gpu\\appdata\\local\\programs\\python\\python36\\lib\\site-packages\\tensorflow\\python\\framework\\dtypes.py:525: FutureWarning: Passing (type, 1) or '1type' as a synonym of type is deprecated; in a future version of numpy, it will be understood as (type, (1,)) / '(1,)type'.\n",
      "  _np_qint16 = np.dtype([(\"qint16\", np.int16, 1)])\n",
      "c:\\users\\nec_gpu\\appdata\\local\\programs\\python\\python36\\lib\\site-packages\\tensorflow\\python\\framework\\dtypes.py:526: FutureWarning: Passing (type, 1) or '1type' as a synonym of type is deprecated; in a future version of numpy, it will be understood as (type, (1,)) / '(1,)type'.\n",
      "  _np_quint16 = np.dtype([(\"quint16\", np.uint16, 1)])\n",
      "c:\\users\\nec_gpu\\appdata\\local\\programs\\python\\python36\\lib\\site-packages\\tensorflow\\python\\framework\\dtypes.py:527: FutureWarning: Passing (type, 1) or '1type' as a synonym of type is deprecated; in a future version of numpy, it will be understood as (type, (1,)) / '(1,)type'.\n",
      "  _np_qint32 = np.dtype([(\"qint32\", np.int32, 1)])\n",
      "c:\\users\\nec_gpu\\appdata\\local\\programs\\python\\python36\\lib\\site-packages\\tensorflow\\python\\framework\\dtypes.py:532: FutureWarning: Passing (type, 1) or '1type' as a synonym of type is deprecated; in a future version of numpy, it will be understood as (type, (1,)) / '(1,)type'.\n",
      "  np_resource = np.dtype([(\"resource\", np.ubyte, 1)])\n"
     ]
    }
   ],
   "source": [
    "import deeplabcut\n",
    "import tensorflow as tf\n",
    "gpu_options = tf.GPUOptions(visible_device_list=\"0\")\n",
    "sess = tf.Session(config=tf.ConfigProto(gpu_options=gpu_options))"
   ]
  },
  {
   "cell_type": "code",
   "execution_count": 6,
   "id": "1fed85a1-17dc-4335-951c-943b8c558bcf",
   "metadata": {},
   "outputs": [
    {
     "name": "stdout",
     "output_type": "stream",
     "text": [
      "Using snapshot-100000 for model E:\\DeepLabCut\\Pupil-800p-Andy-2021-05-16\\Pupil-800p-Andy-2021-05-16\\dlc-models\\iteration-0\\Pupil-800pMay16-trainset95shuffle1\n",
      "Initializing MobileNet\n"
     ]
    },
    {
     "name": "stderr",
     "output_type": "stream",
     "text": [
      "  0%|                                                                                        | 0/11068 [00:00<?, ?it/s]"
     ]
    },
    {
     "name": "stdout",
     "output_type": "stream",
     "text": [
      "Analyzing all the videos in the directory...\n",
      "Starting to analyze %  E:\\Experimental\\Biosensor\\PupilRecords\\V5_2021_05_14_LKN.mp4\n",
      "E:\\DeepLabCut\\Pupil-800p-Andy-2021-05-16\\Pupil-800p-Andy-2021-05-16\\analysis-results  already exists!\n",
      "Loading  E:\\Experimental\\Biosensor\\PupilRecords\\V5_2021_05_14_LKN.mp4\n",
      "Duration of video [s]:  186.13 , recorded with  59.47 fps!\n",
      "Overall # of frames:  11068  found with (before cropping) frame dimensions:  800 600\n",
      "Starting to extract posture\n"
     ]
    },
    {
     "name": "stderr",
     "output_type": "stream",
     "text": [
      "11110it [03:01, 61.35it/s]                                                                                             \n"
     ]
    },
    {
     "name": "stdout",
     "output_type": "stream",
     "text": [
      "Saving results in E:\\DeepLabCut\\Pupil-800p-Andy-2021-05-16\\Pupil-800p-Andy-2021-05-16\\analysis-results...\n",
      "Saving csv poses!\n"
     ]
    },
    {
     "name": "stderr",
     "output_type": "stream",
     "text": [
      "  0%|                                                                                        | 0/13626 [00:00<?, ?it/s]"
     ]
    },
    {
     "name": "stdout",
     "output_type": "stream",
     "text": [
      "Starting to analyze %  E:\\Experimental\\Biosensor\\PupilRecords\\V5_2021_05_13_LKN.mp4\n",
      "E:\\DeepLabCut\\Pupil-800p-Andy-2021-05-16\\Pupil-800p-Andy-2021-05-16\\analysis-results  already exists!\n",
      "Loading  E:\\Experimental\\Biosensor\\PupilRecords\\V5_2021_05_13_LKN.mp4\n",
      "Duration of video [s]:  229.14 , recorded with  59.47 fps!\n",
      "Overall # of frames:  13626  found with (before cropping) frame dimensions:  800 600\n",
      "Starting to extract posture\n"
     ]
    },
    {
     "name": "stderr",
     "output_type": "stream",
     "text": [
      "13736it [03:35, 63.72it/s]                                                                                             \n"
     ]
    },
    {
     "name": "stdout",
     "output_type": "stream",
     "text": [
      "Saving results in E:\\DeepLabCut\\Pupil-800p-Andy-2021-05-16\\Pupil-800p-Andy-2021-05-16\\analysis-results...\n",
      "Saving csv poses!\n"
     ]
    },
    {
     "name": "stderr",
     "output_type": "stream",
     "text": [
      "  0%|                                                                                        | 0/10677 [00:00<?, ?it/s]"
     ]
    },
    {
     "name": "stdout",
     "output_type": "stream",
     "text": [
      "Starting to analyze %  E:\\Experimental\\Biosensor\\PupilRecords\\S1_2021_05_13_LKN.mp4\n",
      "E:\\DeepLabCut\\Pupil-800p-Andy-2021-05-16\\Pupil-800p-Andy-2021-05-16\\analysis-results  already exists!\n",
      "Loading  E:\\Experimental\\Biosensor\\PupilRecords\\S1_2021_05_13_LKN.mp4\n",
      "Duration of video [s]:  179.55 , recorded with  59.47 fps!\n",
      "Overall # of frames:  10677  found with (before cropping) frame dimensions:  800 600\n",
      "Starting to extract posture\n"
     ]
    },
    {
     "name": "stderr",
     "output_type": "stream",
     "text": [
      "10706it [02:49, 63.18it/s]                                                                                             \n"
     ]
    },
    {
     "name": "stdout",
     "output_type": "stream",
     "text": [
      "Saving results in E:\\DeepLabCut\\Pupil-800p-Andy-2021-05-16\\Pupil-800p-Andy-2021-05-16\\analysis-results...\n",
      "Saving csv poses!\n"
     ]
    },
    {
     "name": "stderr",
     "output_type": "stream",
     "text": [
      "  0%|                                                                                        | 0/11347 [00:00<?, ?it/s]"
     ]
    },
    {
     "name": "stdout",
     "output_type": "stream",
     "text": [
      "Starting to analyze %  E:\\Experimental\\Biosensor\\PupilRecords\\S2_2021_05_13_LKN.mp4\n",
      "E:\\DeepLabCut\\Pupil-800p-Andy-2021-05-16\\Pupil-800p-Andy-2021-05-16\\analysis-results  already exists!\n",
      "Loading  E:\\Experimental\\Biosensor\\PupilRecords\\S2_2021_05_13_LKN.mp4\n",
      "Duration of video [s]:  190.82 , recorded with  59.47 fps!\n",
      "Overall # of frames:  11347  found with (before cropping) frame dimensions:  800 600\n",
      "Starting to extract posture\n"
     ]
    },
    {
     "name": "stderr",
     "output_type": "stream",
     "text": [
      "11413it [02:58, 63.79it/s]                                                                                             \n"
     ]
    },
    {
     "name": "stdout",
     "output_type": "stream",
     "text": [
      "Saving results in E:\\DeepLabCut\\Pupil-800p-Andy-2021-05-16\\Pupil-800p-Andy-2021-05-16\\analysis-results...\n",
      "Saving csv poses!\n"
     ]
    },
    {
     "name": "stderr",
     "output_type": "stream",
     "text": [
      "  0%|                                                                                        | 0/12394 [00:00<?, ?it/s]"
     ]
    },
    {
     "name": "stdout",
     "output_type": "stream",
     "text": [
      "Starting to analyze %  E:\\Experimental\\Biosensor\\PupilRecords\\V6_2021_05_13_LKN.mp4\n",
      "E:\\DeepLabCut\\Pupil-800p-Andy-2021-05-16\\Pupil-800p-Andy-2021-05-16\\analysis-results  already exists!\n",
      "Loading  E:\\Experimental\\Biosensor\\PupilRecords\\V6_2021_05_13_LKN.mp4\n",
      "Duration of video [s]:  208.42 , recorded with  59.47 fps!\n",
      "Overall # of frames:  12394  found with (before cropping) frame dimensions:  800 600\n",
      "Starting to extract posture\n"
     ]
    },
    {
     "name": "stderr",
     "output_type": "stream",
     "text": [
      "12423it [03:15, 63.40it/s]                                                                                             \n"
     ]
    },
    {
     "name": "stdout",
     "output_type": "stream",
     "text": [
      "Saving results in E:\\DeepLabCut\\Pupil-800p-Andy-2021-05-16\\Pupil-800p-Andy-2021-05-16\\analysis-results...\n",
      "Saving csv poses!\n"
     ]
    },
    {
     "name": "stderr",
     "output_type": "stream",
     "text": [
      "  0%|                                                                                        | 0/10508 [00:00<?, ?it/s]"
     ]
    },
    {
     "name": "stdout",
     "output_type": "stream",
     "text": [
      "Starting to analyze %  E:\\Experimental\\Biosensor\\PupilRecords\\S1_2021_05_14_LKN.mp4\n",
      "E:\\DeepLabCut\\Pupil-800p-Andy-2021-05-16\\Pupil-800p-Andy-2021-05-16\\analysis-results  already exists!\n",
      "Loading  E:\\Experimental\\Biosensor\\PupilRecords\\S1_2021_05_14_LKN.mp4\n",
      "Duration of video [s]:  176.71 , recorded with  59.47 fps!\n",
      "Overall # of frames:  10508  found with (before cropping) frame dimensions:  800 600\n",
      "Starting to extract posture\n"
     ]
    },
    {
     "name": "stderr",
     "output_type": "stream",
     "text": [
      "10605it [02:44, 64.38it/s]                                                                                             \n"
     ]
    },
    {
     "name": "stdout",
     "output_type": "stream",
     "text": [
      "Saving results in E:\\DeepLabCut\\Pupil-800p-Andy-2021-05-16\\Pupil-800p-Andy-2021-05-16\\analysis-results...\n",
      "Saving csv poses!\n"
     ]
    },
    {
     "name": "stderr",
     "output_type": "stream",
     "text": [
      "  0%|                                                                                        | 0/11642 [00:00<?, ?it/s]"
     ]
    },
    {
     "name": "stdout",
     "output_type": "stream",
     "text": [
      "Starting to analyze %  E:\\Experimental\\Biosensor\\PupilRecords\\V6_2021_05_14_LKN.mp4\n",
      "E:\\DeepLabCut\\Pupil-800p-Andy-2021-05-16\\Pupil-800p-Andy-2021-05-16\\analysis-results  already exists!\n",
      "Loading  E:\\Experimental\\Biosensor\\PupilRecords\\V6_2021_05_14_LKN.mp4\n",
      "Duration of video [s]:  195.78 , recorded with  59.47 fps!\n",
      "Overall # of frames:  11642  found with (before cropping) frame dimensions:  800 600\n",
      "Starting to extract posture\n"
     ]
    },
    {
     "name": "stderr",
     "output_type": "stream",
     "text": [
      "11716it [03:03, 63.73it/s]                                                                                             \n"
     ]
    },
    {
     "name": "stdout",
     "output_type": "stream",
     "text": [
      "Saving results in E:\\DeepLabCut\\Pupil-800p-Andy-2021-05-16\\Pupil-800p-Andy-2021-05-16\\analysis-results...\n",
      "Saving csv poses!\n"
     ]
    },
    {
     "name": "stderr",
     "output_type": "stream",
     "text": [
      "  0%|                                                                                        | 0/19565 [00:00<?, ?it/s]"
     ]
    },
    {
     "name": "stdout",
     "output_type": "stream",
     "text": [
      "Starting to analyze %  E:\\Experimental\\Biosensor\\PupilRecords\\S2_2021_05_14_LKN.mp4\n",
      "E:\\DeepLabCut\\Pupil-800p-Andy-2021-05-16\\Pupil-800p-Andy-2021-05-16\\analysis-results  already exists!\n",
      "Loading  E:\\Experimental\\Biosensor\\PupilRecords\\S2_2021_05_14_LKN.mp4\n",
      "Duration of video [s]:  329.02 , recorded with  59.47 fps!\n",
      "Overall # of frames:  19565  found with (before cropping) frame dimensions:  800 600\n",
      "Starting to extract posture\n"
     ]
    },
    {
     "name": "stderr",
     "output_type": "stream",
     "text": [
      "19695it [05:06, 64.34it/s]                                                                                             \n"
     ]
    },
    {
     "name": "stdout",
     "output_type": "stream",
     "text": [
      "Saving results in E:\\DeepLabCut\\Pupil-800p-Andy-2021-05-16\\Pupil-800p-Andy-2021-05-16\\analysis-results...\n",
      "Saving csv poses!\n",
      "The videos are analyzed. Now your research can truly start! \n",
      " You can create labeled videos with 'create_labeled_video'\n",
      "If the tracking is not satisfactory for some videos, consider expanding the training set. You can use the function 'extract_outlier_frames' to extract a few representative outlier frames.\n"
     ]
    },
    {
     "data": {
      "text/plain": [
       "'DLC_mobnet_75_Pupil-800pMay16shuffle1_100000'"
      ]
     },
     "execution_count": 6,
     "metadata": {},
     "output_type": "execute_result"
    }
   ],
   "source": [
    "deeplabcut.analyze_videos(r\"E:\\DeepLabCut\\Pupil-800p-Andy-2021-05-16\\Pupil-800p-Andy-2021-05-16\\config.yaml\",[r\"E:\\Experimental\\Biosensor\\PupilRecords\"],videotype='mp4',shuffle=1,trainingsetindex=0,gputouse=0,save_as_csv=True,destfolder=r\"E:\\DeepLabCut\\Pupil-800p-Andy-2021-05-16\\Pupil-800p-Andy-2021-05-16\\analysis-results\")"
   ]
  },
  {
   "cell_type": "code",
   "execution_count": 7,
   "id": "415baa13-3a7f-45a1-87be-97daf473a324",
   "metadata": {},
   "outputs": [
    {
     "name": "stdout",
     "output_type": "stream",
     "text": [
      "Using snapshot-100000 for model E:\\DeepLabCut\\Pupil-800p-Andy-2021-05-16\\Pupil-800p-Andy-2021-05-16\\dlc-models\\iteration-0\\Pupil-800pMay16-trainset95shuffle1\n",
      "Initializing MobileNet\n"
     ]
    },
    {
     "name": "stderr",
     "output_type": "stream",
     "text": [
      "  0%|                                                                                        | 0/10912 [00:00<?, ?it/s]"
     ]
    },
    {
     "name": "stdout",
     "output_type": "stream",
     "text": [
      "Analyzing all the videos in the directory...\n",
      "Starting to analyze %  E:\\Experimental\\LDT_LC\\PupilRecords\\L1_2021_05_14.mp4\n",
      "E:\\DeepLabCut\\Pupil-800p-Andy-2021-05-16\\Pupil-800p-Andy-2021-05-16\\analysis-results  already exists!\n",
      "Loading  E:\\Experimental\\LDT_LC\\PupilRecords\\L1_2021_05_14.mp4\n",
      "Duration of video [s]:  183.5 , recorded with  59.47 fps!\n",
      "Overall # of frames:  10912  found with (before cropping) frame dimensions:  800 600\n",
      "Starting to extract posture\n"
     ]
    },
    {
     "name": "stderr",
     "output_type": "stream",
     "text": [
      "11009it [02:50, 64.57it/s]                                                                                             \n"
     ]
    },
    {
     "name": "stdout",
     "output_type": "stream",
     "text": [
      "Saving results in E:\\DeepLabCut\\Pupil-800p-Andy-2021-05-16\\Pupil-800p-Andy-2021-05-16\\analysis-results...\n",
      "Saving csv poses!\n"
     ]
    },
    {
     "name": "stderr",
     "output_type": "stream",
     "text": [
      "  0%|                                                                                        | 0/14228 [00:00<?, ?it/s]"
     ]
    },
    {
     "name": "stdout",
     "output_type": "stream",
     "text": [
      "Starting to analyze %  E:\\Experimental\\LDT_LC\\PupilRecords\\L1_2021_05_13.mp4\n",
      "E:\\DeepLabCut\\Pupil-800p-Andy-2021-05-16\\Pupil-800p-Andy-2021-05-16\\analysis-results  already exists!\n",
      "Loading  E:\\Experimental\\LDT_LC\\PupilRecords\\L1_2021_05_13.mp4\n",
      "Duration of video [s]:  239.27 , recorded with  59.47 fps!\n",
      "Overall # of frames:  14228  found with (before cropping) frame dimensions:  800 600\n",
      "Starting to extract posture\n"
     ]
    },
    {
     "name": "stderr",
     "output_type": "stream",
     "text": [
      "14342it [03:42, 64.50it/s]                                                                                             \n"
     ]
    },
    {
     "name": "stdout",
     "output_type": "stream",
     "text": [
      "Saving results in E:\\DeepLabCut\\Pupil-800p-Andy-2021-05-16\\Pupil-800p-Andy-2021-05-16\\analysis-results...\n",
      "Saving csv poses!\n"
     ]
    },
    {
     "name": "stderr",
     "output_type": "stream",
     "text": [
      "  0%|                                                                                        | 0/12878 [00:00<?, ?it/s]"
     ]
    },
    {
     "name": "stdout",
     "output_type": "stream",
     "text": [
      "Starting to analyze %  E:\\Experimental\\LDT_LC\\PupilRecords\\T6_2021_05_13.mp4\n",
      "E:\\DeepLabCut\\Pupil-800p-Andy-2021-05-16\\Pupil-800p-Andy-2021-05-16\\analysis-results  already exists!\n",
      "Loading  E:\\Experimental\\LDT_LC\\PupilRecords\\T6_2021_05_13.mp4\n",
      "Duration of video [s]:  216.56 , recorded with  59.47 fps!\n",
      "Overall # of frames:  12878  found with (before cropping) frame dimensions:  800 600\n",
      "Starting to extract posture\n"
     ]
    },
    {
     "name": "stderr",
     "output_type": "stream",
     "text": [
      "12928it [03:20, 64.53it/s]                                                                                             \n"
     ]
    },
    {
     "name": "stdout",
     "output_type": "stream",
     "text": [
      "Saving results in E:\\DeepLabCut\\Pupil-800p-Andy-2021-05-16\\Pupil-800p-Andy-2021-05-16\\analysis-results...\n",
      "Saving csv poses!\n"
     ]
    },
    {
     "name": "stderr",
     "output_type": "stream",
     "text": [
      "  0%|                                                                                        | 0/24123 [00:00<?, ?it/s]"
     ]
    },
    {
     "name": "stdout",
     "output_type": "stream",
     "text": [
      "Starting to analyze %  E:\\Experimental\\LDT_LC\\PupilRecords\\T5_2021_05_13.mp4\n",
      "E:\\DeepLabCut\\Pupil-800p-Andy-2021-05-16\\Pupil-800p-Andy-2021-05-16\\analysis-results  already exists!\n",
      "Loading  E:\\Experimental\\LDT_LC\\PupilRecords\\T5_2021_05_13.mp4\n",
      "Duration of video [s]:  405.67 , recorded with  59.47 fps!\n",
      "Overall # of frames:  24123  found with (before cropping) frame dimensions:  800 600\n",
      "Starting to extract posture\n"
     ]
    },
    {
     "name": "stderr",
     "output_type": "stream",
     "text": [
      "24341it [06:16, 64.63it/s]                                                                                             \n"
     ]
    },
    {
     "name": "stdout",
     "output_type": "stream",
     "text": [
      "Saving results in E:\\DeepLabCut\\Pupil-800p-Andy-2021-05-16\\Pupil-800p-Andy-2021-05-16\\analysis-results...\n",
      "Saving csv poses!\n",
      "The videos are analyzed. Now your research can truly start! \n",
      " You can create labeled videos with 'create_labeled_video'\n",
      "If the tracking is not satisfactory for some videos, consider expanding the training set. You can use the function 'extract_outlier_frames' to extract a few representative outlier frames.\n"
     ]
    },
    {
     "data": {
      "text/plain": [
       "'DLC_mobnet_75_Pupil-800pMay16shuffle1_100000'"
      ]
     },
     "execution_count": 7,
     "metadata": {},
     "output_type": "execute_result"
    }
   ],
   "source": [
    "deeplabcut.analyze_videos(r\"E:\\DeepLabCut\\Pupil-800p-Andy-2021-05-16\\Pupil-800p-Andy-2021-05-16\\config.yaml\",[r\"E:\\Experimental\\LDT_LC\\PupilRecords\"],videotype='mp4',shuffle=1,trainingsetindex=0,gputouse=0,save_as_csv=True,destfolder=r\"E:\\DeepLabCut\\Pupil-800p-Andy-2021-05-16\\Pupil-800p-Andy-2021-05-16\\analysis-results\")"
   ]
  },
  {
   "cell_type": "code",
   "execution_count": null,
   "id": "cd1dfaa6-7ecb-4409-9acc-e9dd507663e5",
   "metadata": {},
   "outputs": [],
   "source": []
  }
 ],
 "metadata": {
  "kernelspec": {
   "display_name": "Python 3",
   "language": "python",
   "name": "python3"
  },
  "language_info": {
   "codemirror_mode": {
    "name": "ipython",
    "version": 3
   },
   "file_extension": ".py",
   "mimetype": "text/x-python",
   "name": "python",
   "nbconvert_exporter": "python",
   "pygments_lexer": "ipython3",
   "version": "3.6.5"
  }
 },
 "nbformat": 4,
 "nbformat_minor": 5
}

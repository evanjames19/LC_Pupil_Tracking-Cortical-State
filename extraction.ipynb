{
 "cells": [
  {
   "cell_type": "code",
   "execution_count": 104,
   "id": "c11a8f28-d603-4eae-8eae-d0596ca23de8",
   "metadata": {},
   "outputs": [],
   "source": [
    "import numpy as np\n",
    "import os.path\n",
    "from os import path\n",
    "import math\n",
    "import pandas as pd\n",
    "from scipy.io import savemat\n",
    "from circle_fit import hyper_fit"
   ]
  },
  {
   "cell_type": "code",
   "execution_count": null,
   "id": "26561066-09bf-4224-9661-878c78b978da",
   "metadata": {},
   "outputs": [
    {
     "name": "stdout",
     "output_type": "stream",
     "text": [
      "Reading file: L1_2021_05_13DLC_mobnet_75_Pupil-800pMay16shuffle1_100000.csv\n",
      "Done .MAT file extraction\n",
      "Reading file: L1_2021_05_14DLC_mobnet_75_Pupil-800pMay16shuffle1_100000.csv\n",
      "Done .MAT file extraction\n",
      "Reading file: S1_2021_05_13_LKNDLC_mobnet_75_Pupil-800pMay16shuffle1_100000.csv\n",
      "Done .MAT file extraction\n",
      "Reading file: S1_2021_05_14_LKNDLC_mobnet_75_Pupil-800pMay16shuffle1_100000.csv\n"
     ]
    }
   ],
   "source": [
    "path_CSV = r\"E:\\DeepLabCut\\Pupil-800p-Andy-2021-05-16\\Pupil-800p-Andy-2021-05-16\\analysis-results\"\n",
    "path_MAT = r\"C:\\Users\\NEC_GPU\\Documents\\Andy_pupil\"\n",
    "for root,dirs,files in os.walk(path_CVS):\n",
    "    for file in files:\n",
    "        if file.endswith(\".csv\"):\n",
    "            print('Reading file: '+file)\n",
    "            if path.exists(path_MAT+'/'+'DLCParea_'+file[0:-48]+'.mat'):\n",
    "                print('.MAT file already exists in the target folder!')\n",
    "                continue\n",
    "            else:    \n",
    "                data = pd.read_csv(path_CSV+'/'+file)\n",
    "                fitted_RADIUS = []\n",
    "                fitted_CENTER = []\n",
    "                idx_set = np.linspace(1,34,num=12)\n",
    "                for frame in range(len(data)-2):\n",
    "                    coords = [[float(data.iloc[frame+2][int(idx_set[i])]),float(data.iloc[frame+2][int(idx_set[i]+1)])] for i in range(len(idx_set))]\n",
    "                    xc,yc,r,s = hyper_fit(coords)\n",
    "                    fitted_RADIUS.append(r)\n",
    "                    fitted_CENTER.append([xc,yc])\n",
    "                Parea = {\"Parea\": [math.pi*(fitted_RADIUS[i]**2) for i in range(len(fitted_RADIUS))], \"label\": \"pupil_size\"}\n",
    "                savemat(path_MAT+'/'+'DLCParea_'+file[0:-48]+'.mat',Parea)\n",
    "                print('Done .MAT file extraction')"
   ]
  },
  {
   "cell_type": "code",
   "execution_count": 35,
   "id": "bbd6557a-d04a-4dc7-8723-7014d39c02f2",
   "metadata": {},
   "outputs": [
    {
     "name": "stdout",
     "output_type": "stream",
     "text": [
      "[[346.2751159667969, 222.0011444091797], [384.1837463378906, 237.6873321533203], [404.13824462890625, 262.6611328125], [409.7386474609375, 295.0468444824219], [400.99481201171875, 326.7744445800781], [378.2825622558594, 349.5416259765625], [348.7283020019531, 359.0902099609375], [316.04638671875, 351.1346130371094], [288.849609375, 333.55450439453125], [276.07037353515625, 299.3966979980469], [283.0439453125, 266.9484558105469], [308.9475402832031, 236.13345336914062]]\n"
     ]
    }
   ],
   "source": [
    "idx = np.linspace(1,34,num=12)\n",
    "c = [[float(data.iloc[2][int(idx[i])]),float(data.iloc[2][int(idx[i]+1)])] for i in range(len(idx))]\n",
    "print(c) data = pd.read_csv(path_CSV+'/'+file)\n",
    "                    fitted_RADIUS = []\n",
    "                    fitted_CENTER = []\n",
    "                    idx_set = np.linspace(1,34,num=12)\n",
    "                    for frame in range(len(data)-2):\n",
    "                        coords = [[float(data.iloc[frame+2][int(idx_set[i])]),float(data.iloc[frame+2][int(idx_set[i]+1)])] for i in range(len(idx_set))]\n",
    "                        xc,yc,r,s = hyper_fit(coords)\n",
    "                        fitted_RADIUS.append(r)\n",
    "                        fitted_CENTER.append([xc,yc])\n",
    "                    Parea = {\"Parea\": [math.pi*(fitted_RADIUS[i]**2) for i in range(len(fitted_RADIUS))], \"label\": \"pupil_size\"}\n",
    "                    savemat(r\"C:\\Users\\NEC_GPU\\Desktop\\Parea.mat\",Parea)"
   ]
  },
  {
   "cell_type": "code",
   "execution_count": 75,
   "id": "68c6aefa-1940-4e37-b039-96f2d680bb88",
   "metadata": {},
   "outputs": [
    {
     "name": "stdout",
     "output_type": "stream",
     "text": [
      "L1_2021_05_13\n",
      "L1_2021_05_14\n",
      "S1_2021_05_13_LKN\n",
      "S1_2021_05_14_LKN\n",
      "S2_2021_05_13_LKN\n",
      "S2_2021_05_14_LKN\n",
      "T5_2021_05_13\n",
      "T6_2021_05_13\n",
      "V5_2021_05_13_LKN\n",
      "V5_2021_05_14_LKN\n",
      "V6_2021_05_13_LKN\n",
      "V6_2021_05_14_LKN\n"
     ]
    }
   ],
   "source": [
    "path_CSV = r\"E:\\DeepLabCut\\Pupil-800p-Andy-2021-05-16\\Pupil-800p-Andy-2021-05-16\\analysis-results\"\n",
    "DATA = []\n",
    "for root,dirs,files in os.walk(path_CVS):\n",
    "    for file in files:\n",
    "        if file.endswith(\".csv\"):\n",
    "            print(file[0:-48])"
   ]
  },
  {
   "cell_type": "code",
   "execution_count": null,
   "id": "16e26718-1c2e-41ba-b2c3-e5968eba50ce",
   "metadata": {},
   "outputs": [],
   "source": [
    "Parea = {\"Parea\": np.array([math.pi*(fitted_RADIUS[i]**2) for i in range(len(fitted_RADIUS))]).reshape(len(fitted_RADIUS),1), \"label\": \"pupil_size\"}\n",
    "print(Parea[\"Parea\"].shape)\n",
    "savemat(r\"C:\\Users\\NEC_GPU\\Desktop\\Parea.mat\",Parea)"
   ]
  },
  {
   "cell_type": "code",
   "execution_count": 96,
   "id": "9d2be93b-a8c1-415a-b27b-d46be2444150",
   "metadata": {},
   "outputs": [
    {
     "data": {
      "text/plain": [
       "array([[1],\n",
       "       [2],\n",
       "       [3],\n",
       "       [4]])"
      ]
     },
     "execution_count": 96,
     "metadata": {},
     "output_type": "execute_result"
    }
   ],
   "source": [
    "a = np.array([1,2,3,4])\n",
    "a.reshape(4,1)"
   ]
  },
  {
   "cell_type": "code",
   "execution_count": null,
   "id": "767e9ed0-e3b3-429a-903a-bf08f7f33c85",
   "metadata": {},
   "outputs": [],
   "source": [
    "path = r\"E:\\DeepLabCut\\Pupil-800p-Andy-2021-05-16\\Pupil-800p-Andy-2021-05-16\\analysis-results\\L1_2021_05_14DLC_mobnet_75_Pupil-800pMay16shuffle1_100000.csv\"\n",
    "data = pd.read_csv(path)\n",
    "data.head(10)"
   ]
  }
 ],
 "metadata": {
  "kernelspec": {
   "display_name": "Python 3",
   "language": "python",
   "name": "python3"
  },
  "language_info": {
   "codemirror_mode": {
    "name": "ipython",
    "version": 3
   },
   "file_extension": ".py",
   "mimetype": "text/x-python",
   "name": "python",
   "nbconvert_exporter": "python",
   "pygments_lexer": "ipython3",
   "version": "3.6.5"
  }
 },
 "nbformat": 4,
 "nbformat_minor": 5
}
